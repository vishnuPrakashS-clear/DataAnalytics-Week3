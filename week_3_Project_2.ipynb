{
  "nbformat": 4,
  "nbformat_minor": 0,
  "metadata": {
    "colab": {
      "provenance": []
    },
    "kernelspec": {
      "name": "python3",
      "display_name": "Python 3"
    },
    "language_info": {
      "name": "python"
    }
  },
  "cells": [
    {
      "cell_type": "code",
      "execution_count": 2,
      "metadata": {
        "colab": {
          "base_uri": "https://localhost:8080/"
        },
        "id": "g8J4hvn391Ms",
        "outputId": "1c8dcae5-0080-4a03-d666-89c9714c5290"
      },
      "outputs": [
        {
          "output_type": "stream",
          "name": "stdout",
          "text": [
            "Mounted at /content/drive\n"
          ]
        }
      ],
      "source": [
        "from google.colab import drive\n",
        "drive.mount('/content/drive')\n"
      ]
    },
    {
      "cell_type": "code",
      "source": [
        "import pandas as pd\n",
        "import numpy as np\n",
        "\n",
        "file_path = '/content/drive/MyDrive/chipotle.tsv'\n",
        "df = pd.read_csv(file_path, sep='\\t')\n",
        "\n",
        "# Display the first few rows of the DataFrame\n",
        "print(df)"
      ],
      "metadata": {
        "colab": {
          "base_uri": "https://localhost:8080/"
        },
        "id": "sP_R01BU96_8",
        "outputId": "7447f111-5e09-43d5-f754-933ded44c66b"
      },
      "execution_count": 3,
      "outputs": [
        {
          "output_type": "stream",
          "name": "stdout",
          "text": [
            "      order_id  quantity                              item_name  \\\n",
            "0            1         1           Chips and Fresh Tomato Salsa   \n",
            "1            1         1                                   Izze   \n",
            "2            1         1                       Nantucket Nectar   \n",
            "3            1         1  Chips and Tomatillo-Green Chili Salsa   \n",
            "4            2         2                           Chicken Bowl   \n",
            "...        ...       ...                                    ...   \n",
            "4617      1833         1                          Steak Burrito   \n",
            "4618      1833         1                          Steak Burrito   \n",
            "4619      1834         1                     Chicken Salad Bowl   \n",
            "4620      1834         1                     Chicken Salad Bowl   \n",
            "4621      1834         1                     Chicken Salad Bowl   \n",
            "\n",
            "                                     choice_description item_price  \n",
            "0                                                   NaN     $2.39   \n",
            "1                                          [Clementine]     $3.39   \n",
            "2                                               [Apple]     $3.39   \n",
            "3                                                   NaN     $2.39   \n",
            "4     [Tomatillo-Red Chili Salsa (Hot), [Black Beans...    $16.98   \n",
            "...                                                 ...        ...  \n",
            "4617  [Fresh Tomato Salsa, [Rice, Black Beans, Sour ...    $11.75   \n",
            "4618  [Fresh Tomato Salsa, [Rice, Sour Cream, Cheese...    $11.75   \n",
            "4619  [Fresh Tomato Salsa, [Fajita Vegetables, Pinto...    $11.25   \n",
            "4620  [Fresh Tomato Salsa, [Fajita Vegetables, Lettu...     $8.75   \n",
            "4621  [Fresh Tomato Salsa, [Fajita Vegetables, Pinto...     $8.75   \n",
            "\n",
            "[4622 rows x 5 columns]\n"
          ]
        }
      ]
    },
    {
      "cell_type": "markdown",
      "source": [
        "Missing Values"
      ],
      "metadata": {
        "id": "dEiicr-_Bl9b"
      }
    },
    {
      "cell_type": "code",
      "source": [
        "missing_values = df.isnull().sum()\n",
        "print(\"Missing Values:\")\n",
        "print(missing_values)"
      ],
      "metadata": {
        "colab": {
          "base_uri": "https://localhost:8080/"
        },
        "id": "5pPlmj0OBy4r",
        "outputId": "1f8b068a-26b5-479b-a65c-53dd58a0ea1d"
      },
      "execution_count": 4,
      "outputs": [
        {
          "output_type": "stream",
          "name": "stdout",
          "text": [
            "Missing Values:\n",
            "order_id                 0\n",
            "quantity                 0\n",
            "item_name                0\n",
            "choice_description    1246\n",
            "item_price               0\n",
            "dtype: int64\n"
          ]
        }
      ]
    },
    {
      "cell_type": "code",
      "source": [
        "print(df.shape)\n",
        "df['choice_description']\n"
      ],
      "metadata": {
        "colab": {
          "base_uri": "https://localhost:8080/"
        },
        "id": "2ElmqfkJ_mZ7",
        "outputId": "1c92552a-76d0-4569-d023-2333464de7e2"
      },
      "execution_count": 5,
      "outputs": [
        {
          "output_type": "stream",
          "name": "stdout",
          "text": [
            "(4622, 5)\n"
          ]
        },
        {
          "output_type": "execute_result",
          "data": {
            "text/plain": [
              "0                                                     NaN\n",
              "1                                            [Clementine]\n",
              "2                                                 [Apple]\n",
              "3                                                     NaN\n",
              "4       [Tomatillo-Red Chili Salsa (Hot), [Black Beans...\n",
              "                              ...                        \n",
              "4617    [Fresh Tomato Salsa, [Rice, Black Beans, Sour ...\n",
              "4618    [Fresh Tomato Salsa, [Rice, Sour Cream, Cheese...\n",
              "4619    [Fresh Tomato Salsa, [Fajita Vegetables, Pinto...\n",
              "4620    [Fresh Tomato Salsa, [Fajita Vegetables, Lettu...\n",
              "4621    [Fresh Tomato Salsa, [Fajita Vegetables, Pinto...\n",
              "Name: choice_description, Length: 4622, dtype: object"
            ]
          },
          "metadata": {},
          "execution_count": 5
        }
      ]
    },
    {
      "cell_type": "markdown",
      "source": [
        "Duplicate Entries\n"
      ],
      "metadata": {
        "id": "l7QbwKFgokdN"
      }
    },
    {
      "cell_type": "code",
      "source": [
        "duplicated_entries = df[df.duplicated()]\n",
        "print(\"Duplicated Entries:\")\n",
        "print(f\"Number of duplicates: {duplicated_entries}\")\n",
        "unique_df = df.drop_duplicates()"
      ],
      "metadata": {
        "id": "cufXVXUUCU-a",
        "colab": {
          "base_uri": "https://localhost:8080/"
        },
        "outputId": "70b8f0ae-90c7-4c78-f0a0-cafed6750f78"
      },
      "execution_count": 10,
      "outputs": [
        {
          "output_type": "stream",
          "name": "stdout",
          "text": [
            "Duplicated Entries:\n",
            "Number of duplicates:       order_id  quantity                            item_name  \\\n",
            "238        103         1                        Steak Burrito   \n",
            "248        108         1                          Canned Soda   \n",
            "297        129         1                        Steak Burrito   \n",
            "381        165         1                    Canned Soft Drink   \n",
            "484        205         1                         Chicken Bowl   \n",
            "567        233         1                    Canned Soft Drink   \n",
            "617        254         1                                Chips   \n",
            "684        282         1                    Canned Soft Drink   \n",
            "773        319         1                         Chicken Bowl   \n",
            "908        376         1                        Steak Burrito   \n",
            "924        381         1                   Chicken Soft Tacos   \n",
            "1003       412         1                        Bottled Water   \n",
            "1117       462         1                      Chicken Burrito   \n",
            "1203       491         1                      Chicken Burrito   \n",
            "1245       507         1                    Canned Soft Drink   \n",
            "1381       561         1                    Canned Soft Drink   \n",
            "1410       573         1                        Bottled Water   \n",
            "1420       576         1                        Barbacoa Bowl   \n",
            "1421       576         1                  Barbacoa Salad Bowl   \n",
            "1502       610         1                      Chicken Burrito   \n",
            "1534       624         1  Chips and Tomatillo-Red Chili Salsa   \n",
            "1548       628         1                  Chips and Guacamole   \n",
            "1612       651         1                                 Izze   \n",
            "1791       724         1                    Canned Soft Drink   \n",
            "1792       724         1                    Canned Soft Drink   \n",
            "2078       838         1                   Chicken Soft Tacos   \n",
            "2127       856         1                      Chicken Burrito   \n",
            "2307       926         1                         Chicken Bowl   \n",
            "2318       926         1                         Chicken Bowl   \n",
            "2362       940         1                    Canned Soft Drink   \n",
            "2448       972         1                         Chicken Bowl   \n",
            "2553      1011         1                    Canned Soft Drink   \n",
            "2554      1011         1                    Canned Soft Drink   \n",
            "2560      1013         1                  Chips and Guacamole   \n",
            "2576      1020         1  Chips and Tomatillo Red Chili Salsa   \n",
            "2662      1057         1                   Chicken Soft Tacos   \n",
            "2708      1074         1                                Chips   \n",
            "2717      1078         1                         Chicken Bowl   \n",
            "2833      1125         1                      Chicken Burrito   \n",
            "2881      1144         1                        Bottled Water   \n",
            "2973      1182         1                         Chicken Bowl   \n",
            "2977      1184         1                           Steak Bowl   \n",
            "3121      1244         1                  Chips and Guacamole   \n",
            "3430      1377         1  Chips and Tomatillo Red Chili Salsa   \n",
            "3637      1454         1                   Chicken Soft Tacos   \n",
            "3716      1484         1                          Canned Soda   \n",
            "3764      1507         1                      Chicken Burrito   \n",
            "3829      1534         1                      Chicken Burrito   \n",
            "3924      1574         1                        Bottled Water   \n",
            "4112      1647         1                         Chicken Bowl   \n",
            "4155      1660         1                  Chips and Guacamole   \n",
            "4236      1691         1                         Chicken Bowl   \n",
            "4266      1701         1                                Chips   \n",
            "4372      1745         1                  Chips and Guacamole   \n",
            "4463      1778         1                    Canned Soft Drink   \n",
            "4479      1785         1                        Bottled Water   \n",
            "4544      1806         1                        Bottled Water   \n",
            "4570      1817         1                        Bottled Water   \n",
            "4603      1827         1                     Barbacoa Burrito   \n",
            "\n",
            "                                     choice_description item_price  \n",
            "238   [Tomatillo Red Chili Salsa, [Rice, Black Beans...    $11.75   \n",
            "248                                      [Mountain Dew]     $1.09   \n",
            "297   [Tomatillo Green Chili Salsa, [Rice, Cheese, G...    $11.75   \n",
            "381                                              [Coke]     $1.25   \n",
            "484   [Fresh Tomato Salsa, [Fajita Vegetables, Rice,...     $8.75   \n",
            "567                                         [Diet Coke]     $1.25   \n",
            "617                                                 NaN     $2.15   \n",
            "684                                              [Coke]     $1.25   \n",
            "773   [Tomatillo-Green Chili Salsa (Medium), Black B...     $8.49   \n",
            "908   [Roasted Chili Corn Salsa (Medium), [Rice, Faj...     $8.99   \n",
            "924           [Tomatillo-Red Chili Salsa (Hot), Cheese]     $8.49   \n",
            "1003                                                NaN     $1.50   \n",
            "1117  [Fresh Tomato Salsa, [Rice, Black Beans, Chees...    $11.25   \n",
            "1203  [Fresh Tomato Salsa, [Cheese, Sour Cream, Lett...     $8.75   \n",
            "1245                                         [Lemonade]     $1.25   \n",
            "1381                                             [Coke]     $1.25   \n",
            "1410                                                NaN     $1.50   \n",
            "1420                         [Roasted Chili Corn Salsa]     $9.25   \n",
            "1421                         [Roasted Chili Corn Salsa]     $9.39   \n",
            "1502  [Fresh Tomato Salsa, [Fajita Vegetables, Rice,...     $8.75   \n",
            "1534                                                NaN     $2.39   \n",
            "1548                                                NaN     $4.45   \n",
            "1612                                       [Blackberry]     $3.39   \n",
            "1791                                             [Coke]     $1.25   \n",
            "1792                                             [Coke]     $1.25   \n",
            "2078  [Fresh Tomato Salsa, [Cheese, Sour Cream, Lett...     $8.75   \n",
            "2127  [Fresh Tomato Salsa, [Rice, Black Beans, Chees...    $11.25   \n",
            "2307  [Roasted Chili Corn Salsa, [Fajita Vegetables,...     $8.75   \n",
            "2318  [Roasted Chili Corn Salsa, [Fajita Vegetables,...     $8.75   \n",
            "2362                                             [Coke]     $1.25   \n",
            "2448  [Tomatillo Red Chili Salsa, [Rice, Black Beans...     $8.75   \n",
            "2553                                             [Coke]     $1.25   \n",
            "2554                                             [Coke]     $1.25   \n",
            "2560                                                NaN     $4.45   \n",
            "2576                                                NaN     $2.95   \n",
            "2662  [Tomatillo Red Chili Salsa, [Fajita Vegetables...    $11.25   \n",
            "2708                                                NaN     $2.15   \n",
            "2717  [Fresh Tomato Salsa, [Rice, Black Beans, Chees...    $11.25   \n",
            "2833      [Fresh Tomato Salsa, [Rice, Cheese, Lettuce]]     $8.75   \n",
            "2881                                                NaN     $1.50   \n",
            "2973  [Tomatillo-Red Chili Salsa (Hot), [Rice, Black...     $8.49   \n",
            "2977  [Fresh Tomato Salsa, [Rice, Pinto Beans, Chees...     $9.25   \n",
            "3121                                                NaN     $4.45   \n",
            "3430                                                NaN     $2.95   \n",
            "3637                         [Fresh Tomato Salsa, Rice]     $8.75   \n",
            "3716                                       [Dr. Pepper]     $1.09   \n",
            "3764  [Fresh Tomato Salsa, [Rice, Black Beans, Chees...     $8.75   \n",
            "3829  [Fresh Tomato Salsa, [Rice, Cheese, Sour Cream...     $8.75   \n",
            "3924                                                NaN     $1.50   \n",
            "4112  [Fresh Tomato Salsa, [Fajita Vegetables, Rice,...    $11.25   \n",
            "4155                                                NaN     $4.45   \n",
            "4236                                       [White Rice]     $8.50   \n",
            "4266                                                NaN     $2.15   \n",
            "4372                                                NaN     $4.45   \n",
            "4463                                         [Lemonade]     $1.25   \n",
            "4479                                                NaN     $1.50   \n",
            "4544                                                NaN     $1.50   \n",
            "4570                                                NaN     $1.50   \n",
            "4603                      [Tomatillo Green Chili Salsa]     $9.25   \n"
          ]
        }
      ]
    },
    {
      "cell_type": "markdown",
      "source": [
        "Quantity and Item Price\n"
      ],
      "metadata": {
        "id": "d2QKvSqirdGL"
      }
    },
    {
      "cell_type": "code",
      "source": [
        "unique_df['quantity'] = pd.to_numeric(unique_df['quantity'])\n",
        "unique_df['item_price'] = unique_df['item_price'].replace('[\\$,]', '', regex=True).astype(float)\n",
        "print(unique_df['item_price'])\n"
      ],
      "metadata": {
        "colab": {
          "base_uri": "https://localhost:8080/"
        },
        "id": "CUIC8iPRpAv1",
        "outputId": "8d92a158-d7aa-466c-8d47-dcc06f7a087e"
      },
      "execution_count": 12,
      "outputs": [
        {
          "output_type": "stream",
          "name": "stdout",
          "text": [
            "0        2.39\n",
            "1        3.39\n",
            "2        3.39\n",
            "3        2.39\n",
            "4       16.98\n",
            "        ...  \n",
            "4617    11.75\n",
            "4618    11.75\n",
            "4619    11.25\n",
            "4620     8.75\n",
            "4621     8.75\n",
            "Name: item_price, Length: 4563, dtype: float64\n"
          ]
        },
        {
          "output_type": "stream",
          "name": "stderr",
          "text": [
            "<ipython-input-12-9d3c84d3b017>:1: SettingWithCopyWarning: \n",
            "A value is trying to be set on a copy of a slice from a DataFrame.\n",
            "Try using .loc[row_indexer,col_indexer] = value instead\n",
            "\n",
            "See the caveats in the documentation: https://pandas.pydata.org/pandas-docs/stable/user_guide/indexing.html#returning-a-view-versus-a-copy\n",
            "  unique_df['quantity'] = pd.to_numeric(unique_df['quantity'])\n",
            "<ipython-input-12-9d3c84d3b017>:2: SettingWithCopyWarning: \n",
            "A value is trying to be set on a copy of a slice from a DataFrame.\n",
            "Try using .loc[row_indexer,col_indexer] = value instead\n",
            "\n",
            "See the caveats in the documentation: https://pandas.pydata.org/pandas-docs/stable/user_guide/indexing.html#returning-a-view-versus-a-copy\n",
            "  unique_df['item_price'] = unique_df['item_price'].replace('[\\$,]', '', regex=True).astype(float)\n"
          ]
        }
      ]
    },
    {
      "cell_type": "markdown",
      "source": [
        "Choice Description"
      ],
      "metadata": {
        "id": "q_CCB9Wv9ZG3"
      }
    },
    {
      "cell_type": "code",
      "source": [
        "df['Combined_Description'] = df.groupby('item_name')['choice_description'].transform(lambda x: ', '.join(x.dropna()))\n",
        "\n",
        "# Drop duplicates to keep one row per unique item\n",
        "data_unique_items = df[['item_name', 'Combined_Description']].drop_duplicates()\n",
        "\n",
        "# Display the result\n",
        "print(data_unique_items)\n"
      ],
      "metadata": {
        "colab": {
          "base_uri": "https://localhost:8080/"
        },
        "id": "zLhz-08rr8IK",
        "outputId": "a4a30c24-877b-4f62-d9cb-c508ffa32e45"
      },
      "execution_count": 13,
      "outputs": [
        {
          "output_type": "stream",
          "name": "stdout",
          "text": [
            "                                  item_name  \\\n",
            "0              Chips and Fresh Tomato Salsa   \n",
            "1                                      Izze   \n",
            "2                          Nantucket Nectar   \n",
            "3     Chips and Tomatillo-Green Chili Salsa   \n",
            "4                              Chicken Bowl   \n",
            "6                             Side of Chips   \n",
            "7                             Steak Burrito   \n",
            "8                          Steak Soft Tacos   \n",
            "10                      Chips and Guacamole   \n",
            "11                     Chicken Crispy Tacos   \n",
            "12                       Chicken Soft Tacos   \n",
            "16                          Chicken Burrito   \n",
            "18                              Canned Soda   \n",
            "21                         Barbacoa Burrito   \n",
            "27                         Carnitas Burrito   \n",
            "33                            Carnitas Bowl   \n",
            "34                            Bottled Water   \n",
            "38    Chips and Tomatillo Green Chili Salsa   \n",
            "39                            Barbacoa Bowl   \n",
            "40                                    Chips   \n",
            "44                       Chicken Salad Bowl   \n",
            "54                               Steak Bowl   \n",
            "56                      Barbacoa Soft Tacos   \n",
            "57                           Veggie Burrito   \n",
            "62                              Veggie Bowl   \n",
            "92                       Steak Crispy Tacos   \n",
            "111     Chips and Tomatillo Red Chili Salsa   \n",
            "168                   Barbacoa Crispy Tacos   \n",
            "186                       Veggie Salad Bowl   \n",
            "191      Chips and Roasted Chili-Corn Salsa   \n",
            "233      Chips and Roasted Chili Corn Salsa   \n",
            "237                     Carnitas Soft Tacos   \n",
            "250                           Chicken Salad   \n",
            "263                       Canned Soft Drink   \n",
            "281                        Steak Salad Bowl   \n",
            "298                       6 Pack Soft Drink   \n",
            "300     Chips and Tomatillo-Red Chili Salsa   \n",
            "445                                    Bowl   \n",
            "510                                 Burrito   \n",
            "520                            Crispy Tacos   \n",
            "554                   Carnitas Crispy Tacos   \n",
            "664                             Steak Salad   \n",
            "674       Chips and Mild Fresh Tomato Salsa   \n",
            "738                       Veggie Soft Tacos   \n",
            "1132                    Carnitas Salad Bowl   \n",
            "1229                    Barbacoa Salad Bowl   \n",
            "1414                                  Salad   \n",
            "1653                    Veggie Crispy Tacos   \n",
            "1694                           Veggie Salad   \n",
            "3750                         Carnitas Salad   \n",
            "\n",
            "                                   Combined_Description  \n",
            "0                                                        \n",
            "1     [Clementine], [Grapefruit], [Blackberry], [Bla...  \n",
            "2     [Apple], [Pomegranate Cherry], [Pineapple Oran...  \n",
            "3                                                        \n",
            "4     [Tomatillo-Red Chili Salsa (Hot), [Black Beans...  \n",
            "6                                                        \n",
            "7     [Tomatillo Red Chili Salsa, [Fajita Vegetables...  \n",
            "8     [Tomatillo Green Chili Salsa, [Pinto Beans, Ch...  \n",
            "10                                                       \n",
            "11    [Roasted Chili Corn Salsa, [Fajita Vegetables,...  \n",
            "12    [Roasted Chili Corn Salsa, [Rice, Black Beans,...  \n",
            "16    [Tomatillo-Green Chili Salsa (Medium), [Pinto ...  \n",
            "18    [Sprite], [Dr. Pepper], [Mountain Dew], [Sprit...  \n",
            "21    [[Fresh Tomato Salsa (Mild), Tomatillo-Green C...  \n",
            "27    [[Tomatillo-Green Chili Salsa (Medium), Roaste...  \n",
            "33    [Tomatillo-Red Chili Salsa (Hot), [Black Beans...  \n",
            "34                                                       \n",
            "38                                                       \n",
            "39    [Roasted Chili Corn Salsa, [Fajita Vegetables,...  \n",
            "40                                                       \n",
            "44    [Fresh Tomato Salsa, [Fajita Vegetables, Pinto...  \n",
            "54    [Fresh Tomato Salsa (Mild), [Black Beans, Rice...  \n",
            "56    [Fresh Tomato Salsa, [Fajita Vegetables, Black...  \n",
            "57    [Tomatillo Red Chili Salsa, [Fajita Vegetables...  \n",
            "62    [Fresh Tomato Salsa, [Fajita Vegetables, Rice,...  \n",
            "92    [Fresh Tomato Salsa, Sour Cream], [[Roasted Ch...  \n",
            "111                                                      \n",
            "168   [Tomatillo Red Chili Salsa, [Rice, Black Beans...  \n",
            "186   [Fresh Tomato Salsa, [Fajita Vegetables, Rice,...  \n",
            "191                                                      \n",
            "233                                                      \n",
            "237   [Tomatillo Green Chili Salsa, [Fajita Vegetabl...  \n",
            "250   [Roasted Chili Corn Salsa (Medium), [Black Bea...  \n",
            "263   [Coke], [Sprite], [Coke], [Coke], [Lemonade], ...  \n",
            "281   [Tomatillo Red Chili Salsa, [Black Beans, Chee...  \n",
            "298   [Sprite], [Diet Coke], [Coke], [Diet Coke], [D...  \n",
            "300                                                      \n",
            "445   [Braised Carnitas, Pinto Beans, [Sour Cream, C...  \n",
            "510   [Adobo-Marinated and Grilled Chicken, Pinto Be...  \n",
            "520   [Adobo-Marinated and Grilled Steak], [Adobo-Ma...  \n",
            "554   [Roasted Chili Corn Salsa], [Tomatillo Green C...  \n",
            "664   [Tomatillo-Red Chili Salsa (Hot), [Black Beans...  \n",
            "674                                                      \n",
            "738   [Tomatillo Red Chili Salsa, [Fajita Vegetables...  \n",
            "1132  [Fresh Tomato Salsa, [Rice, Black Beans, Chees...  \n",
            "1229  [Fresh Tomato Salsa, [Rice, Fajita Vegetables,...  \n",
            "1414  [Brown Rice, Adobo-Marinated and Grilled Chick...  \n",
            "1653  [Fresh Tomato Salsa (Mild), [Pinto Beans, Rice...  \n",
            "1694  [[Fresh Tomato Salsa (Mild), Roasted Chili Cor...  \n",
            "3750  [[Fresh Tomato Salsa (Mild), Roasted Chili Cor...  \n"
          ]
        }
      ]
    },
    {
      "cell_type": "markdown",
      "source": [
        "Removing Special Characters"
      ],
      "metadata": {
        "id": "EjIsi2qT-R-8"
      }
    },
    {
      "cell_type": "code",
      "source": [
        "special_characters_cols = ['item_name', 'choice_description','Combined_Description']\n",
        "df[special_characters_cols] = df[special_characters_cols].apply(lambda x: x.str.replace('[^a-zA-Z0-9\\s]', '',regex=True))\n",
        "df"
      ],
      "metadata": {
        "colab": {
          "base_uri": "https://localhost:8080/",
          "height": 424
        },
        "id": "YfzrCE1_9kaw",
        "outputId": "41c7c1dd-9aff-4c4c-a5a5-56390da9b7d2"
      },
      "execution_count": 17,
      "outputs": [
        {
          "output_type": "execute_result",
          "data": {
            "text/plain": [
              "      order_id  quantity                             item_name  \\\n",
              "0            1         1          Chips and Fresh Tomato Salsa   \n",
              "1            1         1                                  Izze   \n",
              "2            1         1                      Nantucket Nectar   \n",
              "3            1         1  Chips and TomatilloGreen Chili Salsa   \n",
              "4            2         2                          Chicken Bowl   \n",
              "...        ...       ...                                   ...   \n",
              "4617      1833         1                         Steak Burrito   \n",
              "4618      1833         1                         Steak Burrito   \n",
              "4619      1834         1                    Chicken Salad Bowl   \n",
              "4620      1834         1                    Chicken Salad Bowl   \n",
              "4621      1834         1                    Chicken Salad Bowl   \n",
              "\n",
              "                                     choice_description item_price  \\\n",
              "0                                                   NaN     $2.39    \n",
              "1                                            Clementine     $3.39    \n",
              "2                                                 Apple     $3.39    \n",
              "3                                                   NaN     $2.39    \n",
              "4     TomatilloRed Chili Salsa Hot Black Beans Rice ...    $16.98    \n",
              "...                                                 ...        ...   \n",
              "4617  Fresh Tomato Salsa Rice Black Beans Sour Cream...    $11.75    \n",
              "4618  Fresh Tomato Salsa Rice Sour Cream Cheese Lett...    $11.75    \n",
              "4619  Fresh Tomato Salsa Fajita Vegetables Pinto Bea...    $11.25    \n",
              "4620       Fresh Tomato Salsa Fajita Vegetables Lettuce     $8.75    \n",
              "4621  Fresh Tomato Salsa Fajita Vegetables Pinto Bea...     $8.75    \n",
              "\n",
              "                                   Combined_Description  \n",
              "0                                                        \n",
              "1     Clementine Grapefruit Blackberry Blackberry Bl...  \n",
              "2     Apple Pomegranate Cherry Pineapple Orange Bana...  \n",
              "3                                                        \n",
              "4     TomatilloRed Chili Salsa Hot Black Beans Rice ...  \n",
              "...                                                 ...  \n",
              "4617  Tomatillo Red Chili Salsa Fajita Vegetables Bl...  \n",
              "4618  Tomatillo Red Chili Salsa Fajita Vegetables Bl...  \n",
              "4619  Fresh Tomato Salsa Fajita Vegetables Pinto Bea...  \n",
              "4620  Fresh Tomato Salsa Fajita Vegetables Pinto Bea...  \n",
              "4621  Fresh Tomato Salsa Fajita Vegetables Pinto Bea...  \n",
              "\n",
              "[4622 rows x 6 columns]"
            ],
            "text/html": [
              "\n",
              "  <div id=\"df-4e4ccca7-489f-4446-8b01-cda94303ad4a\" class=\"colab-df-container\">\n",
              "    <div>\n",
              "<style scoped>\n",
              "    .dataframe tbody tr th:only-of-type {\n",
              "        vertical-align: middle;\n",
              "    }\n",
              "\n",
              "    .dataframe tbody tr th {\n",
              "        vertical-align: top;\n",
              "    }\n",
              "\n",
              "    .dataframe thead th {\n",
              "        text-align: right;\n",
              "    }\n",
              "</style>\n",
              "<table border=\"1\" class=\"dataframe\">\n",
              "  <thead>\n",
              "    <tr style=\"text-align: right;\">\n",
              "      <th></th>\n",
              "      <th>order_id</th>\n",
              "      <th>quantity</th>\n",
              "      <th>item_name</th>\n",
              "      <th>choice_description</th>\n",
              "      <th>item_price</th>\n",
              "      <th>Combined_Description</th>\n",
              "    </tr>\n",
              "  </thead>\n",
              "  <tbody>\n",
              "    <tr>\n",
              "      <th>0</th>\n",
              "      <td>1</td>\n",
              "      <td>1</td>\n",
              "      <td>Chips and Fresh Tomato Salsa</td>\n",
              "      <td>NaN</td>\n",
              "      <td>$2.39</td>\n",
              "      <td></td>\n",
              "    </tr>\n",
              "    <tr>\n",
              "      <th>1</th>\n",
              "      <td>1</td>\n",
              "      <td>1</td>\n",
              "      <td>Izze</td>\n",
              "      <td>Clementine</td>\n",
              "      <td>$3.39</td>\n",
              "      <td>Clementine Grapefruit Blackberry Blackberry Bl...</td>\n",
              "    </tr>\n",
              "    <tr>\n",
              "      <th>2</th>\n",
              "      <td>1</td>\n",
              "      <td>1</td>\n",
              "      <td>Nantucket Nectar</td>\n",
              "      <td>Apple</td>\n",
              "      <td>$3.39</td>\n",
              "      <td>Apple Pomegranate Cherry Pineapple Orange Bana...</td>\n",
              "    </tr>\n",
              "    <tr>\n",
              "      <th>3</th>\n",
              "      <td>1</td>\n",
              "      <td>1</td>\n",
              "      <td>Chips and TomatilloGreen Chili Salsa</td>\n",
              "      <td>NaN</td>\n",
              "      <td>$2.39</td>\n",
              "      <td></td>\n",
              "    </tr>\n",
              "    <tr>\n",
              "      <th>4</th>\n",
              "      <td>2</td>\n",
              "      <td>2</td>\n",
              "      <td>Chicken Bowl</td>\n",
              "      <td>TomatilloRed Chili Salsa Hot Black Beans Rice ...</td>\n",
              "      <td>$16.98</td>\n",
              "      <td>TomatilloRed Chili Salsa Hot Black Beans Rice ...</td>\n",
              "    </tr>\n",
              "    <tr>\n",
              "      <th>...</th>\n",
              "      <td>...</td>\n",
              "      <td>...</td>\n",
              "      <td>...</td>\n",
              "      <td>...</td>\n",
              "      <td>...</td>\n",
              "      <td>...</td>\n",
              "    </tr>\n",
              "    <tr>\n",
              "      <th>4617</th>\n",
              "      <td>1833</td>\n",
              "      <td>1</td>\n",
              "      <td>Steak Burrito</td>\n",
              "      <td>Fresh Tomato Salsa Rice Black Beans Sour Cream...</td>\n",
              "      <td>$11.75</td>\n",
              "      <td>Tomatillo Red Chili Salsa Fajita Vegetables Bl...</td>\n",
              "    </tr>\n",
              "    <tr>\n",
              "      <th>4618</th>\n",
              "      <td>1833</td>\n",
              "      <td>1</td>\n",
              "      <td>Steak Burrito</td>\n",
              "      <td>Fresh Tomato Salsa Rice Sour Cream Cheese Lett...</td>\n",
              "      <td>$11.75</td>\n",
              "      <td>Tomatillo Red Chili Salsa Fajita Vegetables Bl...</td>\n",
              "    </tr>\n",
              "    <tr>\n",
              "      <th>4619</th>\n",
              "      <td>1834</td>\n",
              "      <td>1</td>\n",
              "      <td>Chicken Salad Bowl</td>\n",
              "      <td>Fresh Tomato Salsa Fajita Vegetables Pinto Bea...</td>\n",
              "      <td>$11.25</td>\n",
              "      <td>Fresh Tomato Salsa Fajita Vegetables Pinto Bea...</td>\n",
              "    </tr>\n",
              "    <tr>\n",
              "      <th>4620</th>\n",
              "      <td>1834</td>\n",
              "      <td>1</td>\n",
              "      <td>Chicken Salad Bowl</td>\n",
              "      <td>Fresh Tomato Salsa Fajita Vegetables Lettuce</td>\n",
              "      <td>$8.75</td>\n",
              "      <td>Fresh Tomato Salsa Fajita Vegetables Pinto Bea...</td>\n",
              "    </tr>\n",
              "    <tr>\n",
              "      <th>4621</th>\n",
              "      <td>1834</td>\n",
              "      <td>1</td>\n",
              "      <td>Chicken Salad Bowl</td>\n",
              "      <td>Fresh Tomato Salsa Fajita Vegetables Pinto Bea...</td>\n",
              "      <td>$8.75</td>\n",
              "      <td>Fresh Tomato Salsa Fajita Vegetables Pinto Bea...</td>\n",
              "    </tr>\n",
              "  </tbody>\n",
              "</table>\n",
              "<p>4622 rows × 6 columns</p>\n",
              "</div>\n",
              "    <div class=\"colab-df-buttons\">\n",
              "\n",
              "  <div class=\"colab-df-container\">\n",
              "    <button class=\"colab-df-convert\" onclick=\"convertToInteractive('df-4e4ccca7-489f-4446-8b01-cda94303ad4a')\"\n",
              "            title=\"Convert this dataframe to an interactive table.\"\n",
              "            style=\"display:none;\">\n",
              "\n",
              "  <svg xmlns=\"http://www.w3.org/2000/svg\" height=\"24px\" viewBox=\"0 -960 960 960\">\n",
              "    <path d=\"M120-120v-720h720v720H120Zm60-500h600v-160H180v160Zm220 220h160v-160H400v160Zm0 220h160v-160H400v160ZM180-400h160v-160H180v160Zm440 0h160v-160H620v160ZM180-180h160v-160H180v160Zm440 0h160v-160H620v160Z\"/>\n",
              "  </svg>\n",
              "    </button>\n",
              "\n",
              "  <style>\n",
              "    .colab-df-container {\n",
              "      display:flex;\n",
              "      gap: 12px;\n",
              "    }\n",
              "\n",
              "    .colab-df-convert {\n",
              "      background-color: #E8F0FE;\n",
              "      border: none;\n",
              "      border-radius: 50%;\n",
              "      cursor: pointer;\n",
              "      display: none;\n",
              "      fill: #1967D2;\n",
              "      height: 32px;\n",
              "      padding: 0 0 0 0;\n",
              "      width: 32px;\n",
              "    }\n",
              "\n",
              "    .colab-df-convert:hover {\n",
              "      background-color: #E2EBFA;\n",
              "      box-shadow: 0px 1px 2px rgba(60, 64, 67, 0.3), 0px 1px 3px 1px rgba(60, 64, 67, 0.15);\n",
              "      fill: #174EA6;\n",
              "    }\n",
              "\n",
              "    .colab-df-buttons div {\n",
              "      margin-bottom: 4px;\n",
              "    }\n",
              "\n",
              "    [theme=dark] .colab-df-convert {\n",
              "      background-color: #3B4455;\n",
              "      fill: #D2E3FC;\n",
              "    }\n",
              "\n",
              "    [theme=dark] .colab-df-convert:hover {\n",
              "      background-color: #434B5C;\n",
              "      box-shadow: 0px 1px 3px 1px rgba(0, 0, 0, 0.15);\n",
              "      filter: drop-shadow(0px 1px 2px rgba(0, 0, 0, 0.3));\n",
              "      fill: #FFFFFF;\n",
              "    }\n",
              "  </style>\n",
              "\n",
              "    <script>\n",
              "      const buttonEl =\n",
              "        document.querySelector('#df-4e4ccca7-489f-4446-8b01-cda94303ad4a button.colab-df-convert');\n",
              "      buttonEl.style.display =\n",
              "        google.colab.kernel.accessAllowed ? 'block' : 'none';\n",
              "\n",
              "      async function convertToInteractive(key) {\n",
              "        const element = document.querySelector('#df-4e4ccca7-489f-4446-8b01-cda94303ad4a');\n",
              "        const dataTable =\n",
              "          await google.colab.kernel.invokeFunction('convertToInteractive',\n",
              "                                                    [key], {});\n",
              "        if (!dataTable) return;\n",
              "\n",
              "        const docLinkHtml = 'Like what you see? Visit the ' +\n",
              "          '<a target=\"_blank\" href=https://colab.research.google.com/notebooks/data_table.ipynb>data table notebook</a>'\n",
              "          + ' to learn more about interactive tables.';\n",
              "        element.innerHTML = '';\n",
              "        dataTable['output_type'] = 'display_data';\n",
              "        await google.colab.output.renderOutput(dataTable, element);\n",
              "        const docLink = document.createElement('div');\n",
              "        docLink.innerHTML = docLinkHtml;\n",
              "        element.appendChild(docLink);\n",
              "      }\n",
              "    </script>\n",
              "  </div>\n",
              "\n",
              "\n",
              "<div id=\"df-e7751920-d804-4e2a-b41f-878355cdfd72\">\n",
              "  <button class=\"colab-df-quickchart\" onclick=\"quickchart('df-e7751920-d804-4e2a-b41f-878355cdfd72')\"\n",
              "            title=\"Suggest charts\"\n",
              "            style=\"display:none;\">\n",
              "\n",
              "<svg xmlns=\"http://www.w3.org/2000/svg\" height=\"24px\"viewBox=\"0 0 24 24\"\n",
              "     width=\"24px\">\n",
              "    <g>\n",
              "        <path d=\"M19 3H5c-1.1 0-2 .9-2 2v14c0 1.1.9 2 2 2h14c1.1 0 2-.9 2-2V5c0-1.1-.9-2-2-2zM9 17H7v-7h2v7zm4 0h-2V7h2v10zm4 0h-2v-4h2v4z\"/>\n",
              "    </g>\n",
              "</svg>\n",
              "  </button>\n",
              "\n",
              "<style>\n",
              "  .colab-df-quickchart {\n",
              "      --bg-color: #E8F0FE;\n",
              "      --fill-color: #1967D2;\n",
              "      --hover-bg-color: #E2EBFA;\n",
              "      --hover-fill-color: #174EA6;\n",
              "      --disabled-fill-color: #AAA;\n",
              "      --disabled-bg-color: #DDD;\n",
              "  }\n",
              "\n",
              "  [theme=dark] .colab-df-quickchart {\n",
              "      --bg-color: #3B4455;\n",
              "      --fill-color: #D2E3FC;\n",
              "      --hover-bg-color: #434B5C;\n",
              "      --hover-fill-color: #FFFFFF;\n",
              "      --disabled-bg-color: #3B4455;\n",
              "      --disabled-fill-color: #666;\n",
              "  }\n",
              "\n",
              "  .colab-df-quickchart {\n",
              "    background-color: var(--bg-color);\n",
              "    border: none;\n",
              "    border-radius: 50%;\n",
              "    cursor: pointer;\n",
              "    display: none;\n",
              "    fill: var(--fill-color);\n",
              "    height: 32px;\n",
              "    padding: 0;\n",
              "    width: 32px;\n",
              "  }\n",
              "\n",
              "  .colab-df-quickchart:hover {\n",
              "    background-color: var(--hover-bg-color);\n",
              "    box-shadow: 0 1px 2px rgba(60, 64, 67, 0.3), 0 1px 3px 1px rgba(60, 64, 67, 0.15);\n",
              "    fill: var(--button-hover-fill-color);\n",
              "  }\n",
              "\n",
              "  .colab-df-quickchart-complete:disabled,\n",
              "  .colab-df-quickchart-complete:disabled:hover {\n",
              "    background-color: var(--disabled-bg-color);\n",
              "    fill: var(--disabled-fill-color);\n",
              "    box-shadow: none;\n",
              "  }\n",
              "\n",
              "  .colab-df-spinner {\n",
              "    border: 2px solid var(--fill-color);\n",
              "    border-color: transparent;\n",
              "    border-bottom-color: var(--fill-color);\n",
              "    animation:\n",
              "      spin 1s steps(1) infinite;\n",
              "  }\n",
              "\n",
              "  @keyframes spin {\n",
              "    0% {\n",
              "      border-color: transparent;\n",
              "      border-bottom-color: var(--fill-color);\n",
              "      border-left-color: var(--fill-color);\n",
              "    }\n",
              "    20% {\n",
              "      border-color: transparent;\n",
              "      border-left-color: var(--fill-color);\n",
              "      border-top-color: var(--fill-color);\n",
              "    }\n",
              "    30% {\n",
              "      border-color: transparent;\n",
              "      border-left-color: var(--fill-color);\n",
              "      border-top-color: var(--fill-color);\n",
              "      border-right-color: var(--fill-color);\n",
              "    }\n",
              "    40% {\n",
              "      border-color: transparent;\n",
              "      border-right-color: var(--fill-color);\n",
              "      border-top-color: var(--fill-color);\n",
              "    }\n",
              "    60% {\n",
              "      border-color: transparent;\n",
              "      border-right-color: var(--fill-color);\n",
              "    }\n",
              "    80% {\n",
              "      border-color: transparent;\n",
              "      border-right-color: var(--fill-color);\n",
              "      border-bottom-color: var(--fill-color);\n",
              "    }\n",
              "    90% {\n",
              "      border-color: transparent;\n",
              "      border-bottom-color: var(--fill-color);\n",
              "    }\n",
              "  }\n",
              "</style>\n",
              "\n",
              "  <script>\n",
              "    async function quickchart(key) {\n",
              "      const quickchartButtonEl =\n",
              "        document.querySelector('#' + key + ' button');\n",
              "      quickchartButtonEl.disabled = true;  // To prevent multiple clicks.\n",
              "      quickchartButtonEl.classList.add('colab-df-spinner');\n",
              "      try {\n",
              "        const charts = await google.colab.kernel.invokeFunction(\n",
              "            'suggestCharts', [key], {});\n",
              "      } catch (error) {\n",
              "        console.error('Error during call to suggestCharts:', error);\n",
              "      }\n",
              "      quickchartButtonEl.classList.remove('colab-df-spinner');\n",
              "      quickchartButtonEl.classList.add('colab-df-quickchart-complete');\n",
              "    }\n",
              "    (() => {\n",
              "      let quickchartButtonEl =\n",
              "        document.querySelector('#df-e7751920-d804-4e2a-b41f-878355cdfd72 button');\n",
              "      quickchartButtonEl.style.display =\n",
              "        google.colab.kernel.accessAllowed ? 'block' : 'none';\n",
              "    })();\n",
              "  </script>\n",
              "</div>\n",
              "\n",
              "  <div id=\"id_679b363f-0d86-435b-b3a5-ed2f03eb536c\">\n",
              "    <style>\n",
              "      .colab-df-generate {\n",
              "        background-color: #E8F0FE;\n",
              "        border: none;\n",
              "        border-radius: 50%;\n",
              "        cursor: pointer;\n",
              "        display: none;\n",
              "        fill: #1967D2;\n",
              "        height: 32px;\n",
              "        padding: 0 0 0 0;\n",
              "        width: 32px;\n",
              "      }\n",
              "\n",
              "      .colab-df-generate:hover {\n",
              "        background-color: #E2EBFA;\n",
              "        box-shadow: 0px 1px 2px rgba(60, 64, 67, 0.3), 0px 1px 3px 1px rgba(60, 64, 67, 0.15);\n",
              "        fill: #174EA6;\n",
              "      }\n",
              "\n",
              "      [theme=dark] .colab-df-generate {\n",
              "        background-color: #3B4455;\n",
              "        fill: #D2E3FC;\n",
              "      }\n",
              "\n",
              "      [theme=dark] .colab-df-generate:hover {\n",
              "        background-color: #434B5C;\n",
              "        box-shadow: 0px 1px 3px 1px rgba(0, 0, 0, 0.15);\n",
              "        filter: drop-shadow(0px 1px 2px rgba(0, 0, 0, 0.3));\n",
              "        fill: #FFFFFF;\n",
              "      }\n",
              "    </style>\n",
              "    <button class=\"colab-df-generate\" onclick=\"generateWithVariable('df')\"\n",
              "            title=\"Generate code using this dataframe.\"\n",
              "            style=\"display:none;\">\n",
              "\n",
              "  <svg xmlns=\"http://www.w3.org/2000/svg\" height=\"24px\"viewBox=\"0 0 24 24\"\n",
              "       width=\"24px\">\n",
              "    <path d=\"M7,19H8.4L18.45,9,17,7.55,7,17.6ZM5,21V16.75L18.45,3.32a2,2,0,0,1,2.83,0l1.4,1.43a1.91,1.91,0,0,1,.58,1.4,1.91,1.91,0,0,1-.58,1.4L9.25,21ZM18.45,9,17,7.55Zm-12,3A5.31,5.31,0,0,0,4.9,8.1,5.31,5.31,0,0,0,1,6.5,5.31,5.31,0,0,0,4.9,4.9,5.31,5.31,0,0,0,6.5,1,5.31,5.31,0,0,0,8.1,4.9,5.31,5.31,0,0,0,12,6.5,5.46,5.46,0,0,0,6.5,12Z\"/>\n",
              "  </svg>\n",
              "    </button>\n",
              "    <script>\n",
              "      (() => {\n",
              "      const buttonEl =\n",
              "        document.querySelector('#id_679b363f-0d86-435b-b3a5-ed2f03eb536c button.colab-df-generate');\n",
              "      buttonEl.style.display =\n",
              "        google.colab.kernel.accessAllowed ? 'block' : 'none';\n",
              "\n",
              "      buttonEl.onclick = () => {\n",
              "        google.colab.notebook.generateWithVariable('df');\n",
              "      }\n",
              "      })();\n",
              "    </script>\n",
              "  </div>\n",
              "\n",
              "    </div>\n",
              "  </div>\n"
            ]
          },
          "metadata": {},
          "execution_count": 17
        }
      ]
    },
    {
      "cell_type": "markdown",
      "source": [
        "OrderId Integrity Check"
      ],
      "metadata": {
        "id": "f4JostJTATEV"
      }
    },
    {
      "cell_type": "code",
      "source": [
        "order_id_integrity_check = df['order_id'].is_monotonic_increasing\n",
        "print(f\"Is Order ID monotonic increasing? {order_id_integrity_check}\")\n",
        "print(\"\\n\")\n"
      ],
      "metadata": {
        "colab": {
          "base_uri": "https://localhost:8080/"
        },
        "id": "dDdI5fWE-f_C",
        "outputId": "9d0d812a-93bc-40fd-d1ba-cf7b48af8096"
      },
      "execution_count": 19,
      "outputs": [
        {
          "output_type": "stream",
          "name": "stdout",
          "text": [
            "Is Order ID monotonic increasing? True\n",
            "\n",
            "\n"
          ]
        }
      ]
    },
    {
      "cell_type": "markdown",
      "source": [
        "Item Name Standardization"
      ],
      "metadata": {
        "id": "qvjt89UKAsFn"
      }
    },
    {
      "cell_type": "code",
      "source": [
        "df['item_name'] = df['item_name'].str.lower()\n",
        "df['item_name']"
      ],
      "metadata": {
        "colab": {
          "base_uri": "https://localhost:8080/"
        },
        "id": "krwfKF99AgX_",
        "outputId": "03c2868c-3dda-4f68-92b8-2c52d67ce5ae"
      },
      "execution_count": 21,
      "outputs": [
        {
          "output_type": "execute_result",
          "data": {
            "text/plain": [
              "0               chips and fresh tomato salsa\n",
              "1                                       izze\n",
              "2                           nantucket nectar\n",
              "3       chips and tomatillogreen chili salsa\n",
              "4                               chicken bowl\n",
              "                        ...                 \n",
              "4617                           steak burrito\n",
              "4618                           steak burrito\n",
              "4619                      chicken salad bowl\n",
              "4620                      chicken salad bowl\n",
              "4621                      chicken salad bowl\n",
              "Name: item_name, Length: 4622, dtype: object"
            ]
          },
          "metadata": {},
          "execution_count": 21
        }
      ]
    },
    {
      "cell_type": "markdown",
      "source": [
        "Quantity and Price Relationship"
      ],
      "metadata": {
        "id": "AgrUBdEACYGE"
      }
    },
    {
      "cell_type": "code",
      "source": [
        "quantity_price_relationships = df.groupby('item_name')[['quantity', 'item_price']].mean()\n",
        "print(\"Quantity and Price Relationships:\")\n",
        "print(quantity_price_relationships)\n",
        "print(\"\\n\")"
      ],
      "metadata": {
        "colab": {
          "base_uri": "https://localhost:8080/"
        },
        "id": "jAAfvAVgA1sZ",
        "outputId": "65c30fe5-6aa8-4dad-f96a-329d29cd155c"
      },
      "execution_count": 23,
      "outputs": [
        {
          "output_type": "stream",
          "name": "stdout",
          "text": [
            "Quantity and Price Relationships:\n",
            "                                       quantity\n",
            "item_name                                      \n",
            "6 pack soft drink                      1.018519\n",
            "barbacoa bowl                          1.000000\n",
            "barbacoa burrito                       1.000000\n",
            "barbacoa crispy tacos                  1.090909\n",
            "barbacoa salad bowl                    1.000000\n",
            "barbacoa soft tacos                    1.000000\n",
            "bottled water                          1.302469\n",
            "bowl                                   2.000000\n",
            "burrito                                1.000000\n",
            "canned soda                            1.211538\n",
            "canned soft drink                      1.166113\n",
            "carnitas bowl                          1.044118\n",
            "carnitas burrito                       1.016949\n",
            "carnitas crispy tacos                  1.142857\n",
            "carnitas salad                         1.000000\n",
            "carnitas salad bowl                    1.000000\n",
            "carnitas soft tacos                    1.000000\n",
            "chicken bowl                           1.048209\n",
            "chicken burrito                        1.068716\n",
            "chicken crispy tacos                   1.063830\n",
            "chicken salad                          1.000000\n",
            "chicken salad bowl                     1.118182\n",
            "chicken soft tacos                     1.043478\n",
            "chips                                  1.090047\n",
            "chips and fresh tomato salsa           1.181818\n",
            "chips and guacamole                    1.056367\n",
            "chips and mild fresh tomato salsa      1.000000\n",
            "chips and roasted chili corn salsa     1.045455\n",
            "chips and roasted chilicorn salsa      1.000000\n",
            "chips and tomatillo green chili salsa  1.046512\n",
            "chips and tomatillo red chili salsa    1.041667\n",
            "chips and tomatillogreen chili salsa   1.064516\n",
            "chips and tomatillored chili salsa     1.250000\n",
            "crispy tacos                           1.000000\n",
            "izze                                   1.000000\n",
            "nantucket nectar                       1.074074\n",
            "salad                                  1.000000\n",
            "side of chips                          1.089109\n",
            "steak bowl                             1.047393\n",
            "steak burrito                          1.048913\n",
            "steak crispy tacos                     1.028571\n",
            "steak salad                            1.000000\n",
            "steak salad bowl                       1.068966\n",
            "steak soft tacos                       1.018182\n",
            "veggie bowl                            1.023529\n",
            "veggie burrito                         1.021053\n",
            "veggie crispy tacos                    1.000000\n",
            "veggie salad                           1.000000\n",
            "veggie salad bowl                      1.000000\n",
            "veggie soft tacos                      1.142857\n",
            "\n",
            "\n"
          ]
        },
        {
          "output_type": "stream",
          "name": "stderr",
          "text": [
            "<ipython-input-23-5f5252706020>:1: FutureWarning: The default value of numeric_only in DataFrameGroupBy.mean is deprecated. In a future version, numeric_only will default to False. Either specify numeric_only or select only columns which should be valid for the function.\n",
            "  quantity_price_relationships = df.groupby('item_name')[['quantity', 'item_price']].mean()\n"
          ]
        }
      ]
    },
    {
      "cell_type": "markdown",
      "source": [
        "Data Integrity Check"
      ],
      "metadata": {
        "id": "ZSvFCQemE7YZ"
      }
    },
    {
      "cell_type": "code",
      "source": [
        "df['item_price'] = df['item_price'].str.extract('(\\$\\d+\\.\\d+)', expand=False)\n",
        "df['item_price'] = df['item_price'].replace('[\\$,]', '', regex=True).astype(float)\n",
        "\n",
        "data_integrity_check = df.groupby(['item_name', 'choice_description']).agg({'quantity': 'sum', 'item_price': 'mean'}).reset_index()\n",
        "print(\"Data Integrity Check:\")\n",
        "print(data_integrity_check)"
      ],
      "metadata": {
        "colab": {
          "base_uri": "https://localhost:8080/"
        },
        "id": "NTW20DbICbo2",
        "outputId": "ef9f0cbb-58b5-4684-88be-fe5ffcfc961e"
      },
      "execution_count": 26,
      "outputs": [
        {
          "output_type": "stream",
          "name": "stdout",
          "text": [
            "Data Integrity Check:\n",
            "              item_name                                 choice_description  \\\n",
            "0     6 pack soft drink                                               Coke   \n",
            "1     6 pack soft drink                                          Diet Coke   \n",
            "2     6 pack soft drink                                           Lemonade   \n",
            "3     6 pack soft drink                                             Nestea   \n",
            "4     6 pack soft drink                                             Sprite   \n",
            "...                 ...                                                ...   \n",
            "1854  veggie soft tacos  Fresh Tomato Salsa Mild Black Beans Rice Chees...   \n",
            "1855  veggie soft tacos  Fresh Tomato Salsa Mild Pinto Beans Rice Chees...   \n",
            "1856  veggie soft tacos  Roasted Chili Corn Salsa Fajita Vegetables Bla...   \n",
            "1857  veggie soft tacos  Roasted Chili Corn Salsa Medium Black Beans Fa...   \n",
            "1858  veggie soft tacos  Tomatillo Red Chili Salsa Fajita Vegetables Ri...   \n",
            "\n",
            "      quantity  item_price  \n",
            "0           21    6.490000  \n",
            "1           25    6.760417  \n",
            "2            2    6.490000  \n",
            "3            2    6.490000  \n",
            "4            5    6.490000  \n",
            "...        ...         ...  \n",
            "1854         2   16.980000  \n",
            "1855         1    8.490000  \n",
            "1856         1    8.750000  \n",
            "1857         1    8.490000  \n",
            "1858         1   11.250000  \n",
            "\n",
            "[1859 rows x 4 columns]\n"
          ]
        }
      ]
    },
    {
      "cell_type": "markdown",
      "source": [
        "convert to csv"
      ],
      "metadata": {
        "id": "OGcYiiH-GsYL"
      }
    },
    {
      "cell_type": "code",
      "source": [
        "csv_file_path = '/content/chipotle_cleaned.csv'\n",
        "\n",
        "# Convert the cleaned DataFrame to CSV\n",
        "df.to_csv(csv_file_path, sep=',', index=False)\n",
        "\n",
        "# Display a message indicating the successful conversion\n",
        "print(f\"The cleaned dataset has been successfully saved to: {csv_file_path}\")\n"
      ],
      "metadata": {
        "colab": {
          "base_uri": "https://localhost:8080/"
        },
        "id": "IJVWrhFHGu1T",
        "outputId": "c8401dca-7f1b-4840-a170-35505dfd6e3f"
      },
      "execution_count": 27,
      "outputs": [
        {
          "output_type": "stream",
          "name": "stdout",
          "text": [
            "The cleaned dataset has been successfully saved to: /content/chipotle_cleaned.csv\n"
          ]
        }
      ]
    },
    {
      "cell_type": "markdown",
      "source": [
        "Handling Categorical Data"
      ],
      "metadata": {
        "id": "7AqUWqPaHN_Q"
      }
    },
    {
      "cell_type": "code",
      "source": [
        "df['item_name'] = df['item_name'].astype('category')\n",
        "column_type = df['item_name'].dtype\n",
        "print(column_type)"
      ],
      "metadata": {
        "colab": {
          "base_uri": "https://localhost:8080/"
        },
        "id": "y5vD1DOXGzCK",
        "outputId": "bc30ec04-97f2-4c62-9b3b-950661141667"
      },
      "execution_count": 29,
      "outputs": [
        {
          "output_type": "stream",
          "name": "stdout",
          "text": [
            "category\n"
          ]
        }
      ]
    },
    {
      "cell_type": "code",
      "source": [],
      "metadata": {
        "id": "vzv3qYBWHTRZ"
      },
      "execution_count": null,
      "outputs": []
    }
  ]
}